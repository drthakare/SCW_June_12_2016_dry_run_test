{
 "cells": [
  {
   "cell_type": "code",
   "execution_count": 1,
   "metadata": {
    "collapsed": true
   },
   "outputs": [],
   "source": [
    "import matplotlib.pyplot as plt\n",
    "import pandas as pd"
   ]
  },
  {
   "cell_type": "code",
   "execution_count": 13,
   "metadata": {
    "collapsed": false
   },
   "outputs": [],
   "source": [
    "dats = pd.read_csv('../raw_data/gapminder-FiveYearData.csv')"
   ]
  },
  {
   "cell_type": "code",
   "execution_count": 16,
   "metadata": {
    "collapsed": false
   },
   "outputs": [
    {
     "data": {
      "text/plain": [
       "[9279525.0,\n",
       " 10270856.0,\n",
       " 11000948.0,\n",
       " 12760499.0,\n",
       " 14760787.0,\n",
       " 17152804.0,\n",
       " 20033753.0,\n",
       " 23254956.0,\n",
       " 26298373.0,\n",
       " 29072015.0,\n",
       " 31287142.0,\n",
       " 33333216.0,\n",
       " 3080907.0,\n",
       " 3646340.0,\n",
       " 4277736.0,\n",
       " 4995432.0,\n",
       " 5861135.0,\n",
       " 6642107.0,\n",
       " 7636524.0,\n",
       " 9216418.0,\n",
       " 10704340.0,\n",
       " 11404948.0,\n",
       " 11926563.0,\n",
       " 12311143.0]"
      ]
     },
     "execution_count": 16,
     "metadata": {},
     "output_type": "execute_result"
    }
   ],
   "source": [
    "zim_dats = dats[dats['country']=='Zimbabwe']\n",
    "alg_dats = dats[dats['country']=='Algeria']"
   ]
  },
  {
   "cell_type": "code",
   "execution_count": 32,
   "metadata": {
    "collapsed": true
   },
   "outputs": [],
   "source": [
    "fig = plt.figure(12, figsize=(12,4), dpi=150)\n",
    "fig.clear()"
   ]
  },
  {
   "cell_type": "code",
   "execution_count": 33,
   "metadata": {
    "collapsed": false
   },
   "outputs": [
    {
     "data": {
      "text/plain": [
       "<matplotlib.text.Text at 0x11cfb5d90>"
      ]
     },
     "execution_count": 33,
     "metadata": {},
     "output_type": "execute_result"
    }
   ],
   "source": [
    "ax = fig.add_subplot(1,2,1)\n",
    "ax.plot(zim_dats['year'],zim_dats['lifeExp'], 'ro')\n",
    "ax.set_xlabel('Year')\n",
    "ax.set_ylabel('Life Expectancy')"
   ]
  },
  {
   "cell_type": "code",
   "execution_count": 34,
   "metadata": {
    "collapsed": true
   },
   "outputs": [],
   "source": [
    "ax = fig.add_subplot(1,2,2)\n",
    "ax.hist(alg_dats['pop'])\n",
    "ax.set_xlabel('Population')\n",
    "ax.set_ylabel('Frequency')\n",
    "plt.show()"
   ]
  },
  {
   "cell_type": "code",
   "execution_count": null,
   "metadata": {
    "collapsed": true
   },
   "outputs": [],
   "source": []
  }
 ],
 "metadata": {
  "kernelspec": {
   "display_name": "Python 2",
   "language": "python",
   "name": "python2"
  },
  "language_info": {
   "codemirror_mode": {
    "name": "ipython",
    "version": 2
   },
   "file_extension": ".py",
   "mimetype": "text/x-python",
   "name": "python",
   "nbconvert_exporter": "python",
   "pygments_lexer": "ipython2",
   "version": "2.7.11"
  }
 },
 "nbformat": 4,
 "nbformat_minor": 0
}
