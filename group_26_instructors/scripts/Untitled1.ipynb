{
 "cells": [
  {
   "cell_type": "code",
   "execution_count": 3,
   "metadata": {
    "collapsed": false
   },
   "outputs": [],
   "source": [
    "import matplotlib, numpy as np, matplotlib.pyplot as plt\n",
    "import pandas as pd\n",
    "\n",
    "dats = pd.read_csv('../raw_data/gapminder-FiveYearData.csv')\n",
    "\n",
    "zim_dats = dats[dats['country']=='Zimbabwe']\n",
    "alg_dats = dats[dats['country']=='Algeria']\n",
    "\n",
    "fig = plt.figure(12, figsize=(6,2), dpi=150)\n",
    "fig.clear()\n",
    "\n",
    "#\n",
    "# Zimbabwe life expectancy over time scatter\n",
    "#\n",
    "ax = fig.add_subplot(1,2,1)\n",
    "ax.plot(zim_dats['year'],zim_dats['lifeExp'], 'ro')\n",
    "ax.set_xlabel('Year')\n",
    "ax.set_ylabel('Life Expectancy')\n",
    "\n",
    "#\n",
    "# Disease association versus publications\n",
    "#\n",
    "ax = fig.add_subplot(1,2,2)\n",
    "ax.hist(alg_dats['pop'])\n",
    "ax.set_xlabel('Population')\n",
    "ax.set_ylabel('Frequency')\n",
    "\n",
    "fig.tight_layout()\n",
    "\n",
    "fig.text(0.01, 0.98, 'A', va='top', ha='left', fontsize=12)\n",
    "fig.text(0.49, 0.98, 'B', va='top', ha='left', fontsize=12)\n",
    "\n",
    "plt.show()\n"
   ]
  },
  {
   "cell_type": "code",
   "execution_count": null,
   "metadata": {
    "collapsed": false
   },
   "outputs": [],
   "source": [
    "1+1"
   ]
  },
  {
   "cell_type": "code",
   "execution_count": null,
   "metadata": {
    "collapsed": true
   },
   "outputs": [],
   "source": []
  }
 ],
 "metadata": {
  "kernelspec": {
   "display_name": "Python 2",
   "language": "python",
   "name": "python2"
  },
  "language_info": {
   "codemirror_mode": {
    "name": "ipython",
    "version": 2
   },
   "file_extension": ".py",
   "mimetype": "text/x-python",
   "name": "python",
   "nbconvert_exporter": "python",
   "pygments_lexer": "ipython2",
   "version": "2.7.11"
  }
 },
 "nbformat": 4,
 "nbformat_minor": 0
}
